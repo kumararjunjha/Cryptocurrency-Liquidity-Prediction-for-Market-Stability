import pandas as pd
import matplotlib.pyplot as plt
import seaborn as sns

# Show charts inline
%matplotlib inline



# Load data
df = pd.read_csv("../data/coin_gecko_2022-03-16.csv")
df.head()



top5 = df.sort_values("mkt_cap", ascending=False).head(5)

plt.figure(figsize=(8,5))
sns.barplot(x=top5['coin'], y=top5['mkt_cap'])
plt.title("Top 5 Cryptos by Market Cap")
plt.ylabel("Market Cap")
plt.xlabel("Cryptocurrency")
plt.show()



plt.figure(figsize=(10, 6))
sns.heatmap(df.corr(numeric_only=True), annot=True, cmap="coolwarm")
plt.title("Feature Correlation Heatmap")
plt.show()



plt.figure(figsize=(8,5))
sns.scatterplot(data=df, x='price', y='24h_volume', hue='coin')
plt.title("Price vs 24h Volume")
plt.show()




